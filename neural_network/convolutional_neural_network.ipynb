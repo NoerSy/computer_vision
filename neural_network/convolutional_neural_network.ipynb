{
  "nbformat": 4,
  "nbformat_minor": 0,
  "metadata": {
    "colab": {
      "name": "convolutional_neural_network.ipynb",
      "provenance": [],
      "include_colab_link": true
    },
    "kernelspec": {
      "name": "python3",
      "display_name": "Python 3"
    },
    "language_info": {
      "name": "python"
    }
  },
  "cells": [
    {
      "cell_type": "markdown",
      "metadata": {
        "id": "view-in-github",
        "colab_type": "text"
      },
      "source": [
        "<a href=\"https://colab.research.google.com/github/noersy/computer_vision/blob/main/neural_network/convolutional_neural_network.ipynb\" target=\"_parent\"><img src=\"https://colab.research.google.com/assets/colab-badge.svg\" alt=\"Open In Colab\"/></a>"
      ]
    },
    {
      "cell_type": "code",
      "metadata": {
        "colab": {
          "base_uri": "https://localhost:8080/"
        },
        "id": "XmjyxnomJuE4",
        "outputId": "435a331f-9a17-4c07-e119-ec93f7090141"
      },
      "source": [
        "#github repository sync in google colab\n",
        "import os\n",
        "try:\n",
        "  # Colab only\n",
        "  !git clone https://github.com/noersy/computer_vision.git\n",
        "  os.chdir('/content')      \n",
        "except Exception:\n",
        "  pass"
      ],
      "execution_count": 17,
      "outputs": [
        {
          "output_type": "stream",
          "name": "stdout",
          "text": [
            "fatal: destination path 'computer_vision' already exists and is not an empty directory.\n"
          ]
        }
      ]
    },
    {
      "cell_type": "code",
      "metadata": {
        "id": "y9L_1kqnEEjc"
      },
      "source": [
        "# Definisikan path untuk data daun_nangka dan data daun_sirih\n",
        "\n",
        "base_dir = '/content/computer_vision/images'\n",
        "\n",
        "daun_nangka_dir = os.path.join(base_dir, 'daun_nangka')\n",
        "daun_sirih_dir = os.path.join(base_dir, 'daun_sirih')"
      ],
      "execution_count": 18,
      "outputs": []
    },
    {
      "cell_type": "code",
      "metadata": {
        "id": "9gc0BCSREF0M"
      },
      "source": [
        "import cv2\n",
        "import numpy as np\n",
        "\n",
        "# Gather data daun_nangka\n",
        "daun_nangka_data = []\n",
        "daun_nangka_label = []\n",
        "for r, d, f in os.walk(daun_nangka_dir):\n",
        "    for file in f:\n",
        "        if \".png\" in file:\n",
        "            imagePath = os.path.join(r, file)\n",
        "            image = cv2.imread(imagePath)\n",
        "            image = cv2.resize(image, (150,150))\n",
        "            daun_nangka_data.append(image)\n",
        "            label = imagePath.split(os.path.sep)[-2]\n",
        "            daun_nangka_label.append(label)\n",
        "\n",
        "daun_nangka_data = np.array(daun_nangka_data)\n",
        "daun_nangka_label = np.array(daun_nangka_label)"
      ],
      "execution_count": 19,
      "outputs": []
    },
    {
      "cell_type": "code",
      "metadata": {
        "id": "FuoKFhhVEG_O"
      },
      "source": [
        "# Gather data daun_sirih\n",
        "daun_sirih_data = []\n",
        "daun_sirih_label = []\n",
        "for r, d, f in os.walk(daun_sirih_dir):\n",
        "    for file in f:\n",
        "        if \".png\" in file:\n",
        "            imagePath = os.path.join(r, file)\n",
        "            image = cv2.imread(imagePath)\n",
        "            image = cv2.resize(image, (150,150))\n",
        "            daun_sirih_data.append(image)\n",
        "            label = imagePath.split(os.path.sep)[-2]\n",
        "            daun_sirih_label.append(label)\n",
        "\n",
        "daun_sirih_data = np.array(daun_sirih_data)\n",
        "daun_sirih_label = np.array(daun_sirih_label)"
      ],
      "execution_count": 20,
      "outputs": []
    },
    {
      "cell_type": "markdown",
      "metadata": {
        "id": "kiXbwrN3ELqv"
      },
      "source": [
        "<h3>Data Preprocessing</h3>"
      ]
    },
    {
      "cell_type": "code",
      "metadata": {
        "colab": {
          "base_uri": "https://localhost:8080/"
        },
        "id": "m5VhnvtrEI1I",
        "outputId": "4a87e6d5-b127-4e48-d8e8-ac8c9c84ec80"
      },
      "source": [
        "# Tampilkan shape dari data train dan data validation\n",
        "print(\"Daun Nangka Data = \", daun_nangka_data.shape)\n",
        "print(\"Daun Nangka Label = \", daun_nangka_label.shape)\n",
        "print(\"Daun Sirih Data = \", val_data.shape)\n",
        "print(\"Daun Sirih Label = \", val_label.shape)"
      ],
      "execution_count": 21,
      "outputs": [
        {
          "output_type": "stream",
          "name": "stdout",
          "text": [
            "Daun Nangka Data =  (50, 150, 150, 3)\n",
            "Daun Nangka Label =  (50,)\n",
            "Daun Sirih Data =  (50, 150, 150, 3)\n",
            "Daun Sirih Label =  (50,)\n"
          ]
        }
      ]
    },
    {
      "cell_type": "code",
      "metadata": {
        "colab": {
          "base_uri": "https://localhost:8080/"
        },
        "id": "q1LVp6dCENne",
        "outputId": "767b2f01-255d-46fe-b1b3-d120493e1faa"
      },
      "source": [
        "# Normalisasi dataset\n",
        "print(\"Data sebelum di-normalisasi \", daun_nangka_data[0][0][0])\n",
        "\n",
        "x_daun_nangka = daun_nangka_data.astype('float32') / 255.0\n",
        "x_daun_sirih = daun_sirih_data.astype('float32') / 255.0\n",
        "print(\"Data setelah di-normalisasi \", x_daun_nangka[0][0][0])"
      ],
      "execution_count": 22,
      "outputs": [
        {
          "output_type": "stream",
          "name": "stdout",
          "text": [
            "Data sebelum di-normalisasi  [255 255 255]\n",
            "Data setelah di-normalisasi  [1. 1. 1.]\n"
          ]
        }
      ]
    },
    {
      "cell_type": "code",
      "metadata": {
        "colab": {
          "base_uri": "https://localhost:8080/"
        },
        "id": "tc7FivC6EPhm",
        "outputId": "d3b33d5d-7089-435c-f459-471fd4eceb30"
      },
      "source": [
        "# Transformasi label encoder\n",
        "from sklearn.preprocessing import LabelEncoder\n",
        "\n",
        "print(\"Label sebelum di-encoder \", daun_nangka_label[995:1005])\n",
        "\n",
        "lb = LabelEncoder()\n",
        "y_daun_nangka = lb.fit_transform(daun_nangka_label)\n",
        "y_daun_sirih = lb.fit_transform(daun_sirih_label)\n",
        "\n",
        "print(\"Label setelah di-encoder \", y_daun_nangka[995:1005])"
      ],
      "execution_count": 23,
      "outputs": [
        {
          "output_type": "stream",
          "name": "stdout",
          "text": [
            "Label sebelum di-encoder  []\n",
            "Label setelah di-encoder  []\n"
          ]
        }
      ]
    },
    {
      "cell_type": "markdown",
      "metadata": {
        "id": "4jVWbOhOEzQJ"
      },
      "source": [
        "<h3>Definisikan Model</h3>"
      ]
    },
    {
      "cell_type": "code",
      "metadata": {
        "id": "usLiFiwAEvVb"
      },
      "source": [
        "from tensorflow.keras.models import Sequential\n",
        "from tensorflow.keras.layers import InputLayer, Dense, Conv2D, MaxPool2D, Flatten"
      ],
      "execution_count": 24,
      "outputs": []
    },
    {
      "cell_type": "code",
      "metadata": {
        "id": "rDwzxacpE1ei"
      },
      "source": [
        "# Feature Extraction Layer\n",
        "model = Sequential()\n",
        "\n",
        "model.add(InputLayer(input_shape=[150,150,3]))\n",
        "model.add(Conv2D(filters=16, kernel_size=3, strides=1, padding='same', activation='relu'))\n",
        "model.add(MaxPool2D(pool_size=2, padding='same'))\n",
        "model.add(Conv2D(filters=32, kernel_size=3, strides=1, padding='same', activation='relu'))\n",
        "model.add(MaxPool2D(pool_size=2, padding='same'))\n",
        "model.add(Conv2D(filters=64, kernel_size=3, strides=1, padding='same', activation='relu'))\n",
        "model.add(MaxPool2D(pool_size=2, padding='same'))\n",
        "model.add(Flatten())"
      ],
      "execution_count": 25,
      "outputs": []
    },
    {
      "cell_type": "code",
      "metadata": {
        "id": "Sud1AUF0E2k8"
      },
      "source": [
        "# Fully Connected Layer\n",
        "model.add(Dense(128, activation='relu'))\n",
        "model.add(Dense(1, activation='sigmoid'))"
      ],
      "execution_count": 26,
      "outputs": []
    },
    {
      "cell_type": "code",
      "metadata": {
        "colab": {
          "base_uri": "https://localhost:8080/"
        },
        "id": "XW-KE9ePE466",
        "outputId": "11d0a172-12ca-4338-a7b9-e09891cda4f3"
      },
      "source": [
        "# Print model summary\n",
        "print(model.summary())"
      ],
      "execution_count": 27,
      "outputs": [
        {
          "output_type": "stream",
          "name": "stdout",
          "text": [
            "Model: \"sequential_1\"\n",
            "_________________________________________________________________\n",
            " Layer (type)                Output Shape              Param #   \n",
            "=================================================================\n",
            " conv2d_3 (Conv2D)           (None, 150, 150, 16)      448       \n",
            "                                                                 \n",
            " max_pooling2d_3 (MaxPooling  (None, 75, 75, 16)       0         \n",
            " 2D)                                                             \n",
            "                                                                 \n",
            " conv2d_4 (Conv2D)           (None, 75, 75, 32)        4640      \n",
            "                                                                 \n",
            " max_pooling2d_4 (MaxPooling  (None, 38, 38, 32)       0         \n",
            " 2D)                                                             \n",
            "                                                                 \n",
            " conv2d_5 (Conv2D)           (None, 38, 38, 64)        18496     \n",
            "                                                                 \n",
            " max_pooling2d_5 (MaxPooling  (None, 19, 19, 64)       0         \n",
            " 2D)                                                             \n",
            "                                                                 \n",
            " flatten_1 (Flatten)         (None, 23104)             0         \n",
            "                                                                 \n",
            " dense_2 (Dense)             (None, 128)               2957440   \n",
            "                                                                 \n",
            " dense_3 (Dense)             (None, 1)                 129       \n",
            "                                                                 \n",
            "=================================================================\n",
            "Total params: 2,981,153\n",
            "Trainable params: 2,981,153\n",
            "Non-trainable params: 0\n",
            "_________________________________________________________________\n",
            "None\n"
          ]
        }
      ]
    },
    {
      "cell_type": "code",
      "metadata": {
        "colab": {
          "base_uri": "https://localhost:8080/"
        },
        "id": "Tais64D7E5Zo",
        "outputId": "6be0f40f-39ef-4b3c-ac7b-e00344d9ba23"
      },
      "source": [
        "# Compile model\n",
        "from tensorflow.keras.optimizers import Adam\n",
        "\n",
        "model.compile(optimizer=Adam(lr=0.001), \n",
        "              loss='binary_crossentropy', \n",
        "              metrics=['acc'])"
      ],
      "execution_count": 28,
      "outputs": [
        {
          "output_type": "stream",
          "name": "stderr",
          "text": [
            "/usr/local/lib/python3.7/dist-packages/keras/optimizer_v2/adam.py:105: UserWarning: The `lr` argument is deprecated, use `learning_rate` instead.\n",
            "  super(Adam, self).__init__(name, **kwargs)\n"
          ]
        }
      ]
    },
    {
      "cell_type": "markdown",
      "metadata": {
        "id": "NTNBH19iE8kt"
      },
      "source": [
        "<h3>Training Model</h3>"
      ]
    },
    {
      "cell_type": "code",
      "metadata": {
        "colab": {
          "base_uri": "https://localhost:8080/"
        },
        "id": "p4Vr8dyvE6pM",
        "outputId": "8ce7806c-b176-4011-e9e9-cf24c12aac2d"
      },
      "source": [
        "H = model.fit(x_daun_nangka, y_daun_nangka, batch_size=20, epochs=15, validation_data=(x_daun_sirih, y_daun_sirih))"
      ],
      "execution_count": 30,
      "outputs": [
        {
          "output_type": "stream",
          "name": "stdout",
          "text": [
            "Epoch 1/15\n",
            "3/3 [==============================] - 2s 549ms/step - loss: 0.2727 - acc: 0.8800 - val_loss: 3.0243e-09 - val_acc: 1.0000\n",
            "Epoch 2/15\n",
            "3/3 [==============================] - 1s 475ms/step - loss: 3.1218e-09 - acc: 1.0000 - val_loss: 7.9516e-15 - val_acc: 1.0000\n",
            "Epoch 3/15\n",
            "3/3 [==============================] - 1s 471ms/step - loss: 1.3206e-14 - acc: 1.0000 - val_loss: 2.7391e-19 - val_acc: 1.0000\n",
            "Epoch 4/15\n",
            "3/3 [==============================] - 1s 462ms/step - loss: 9.6840e-19 - acc: 1.0000 - val_loss: 7.1707e-23 - val_acc: 1.0000\n",
            "Epoch 5/15\n",
            "3/3 [==============================] - 1s 465ms/step - loss: 5.4597e-22 - acc: 1.0000 - val_loss: 1.0548e-25 - val_acc: 1.0000\n",
            "Epoch 6/15\n",
            "3/3 [==============================] - 1s 462ms/step - loss: 1.0551e-24 - acc: 1.0000 - val_loss: 5.8797e-28 - val_acc: 1.0000\n",
            "Epoch 7/15\n",
            "3/3 [==============================] - 1s 460ms/step - loss: 1.1913e-26 - acc: 1.0000 - val_loss: 1.0164e-29 - val_acc: 1.0000\n",
            "Epoch 8/15\n",
            "3/3 [==============================] - 1s 463ms/step - loss: 1.9109e-28 - acc: 1.0000 - val_loss: 4.3012e-31 - val_acc: 1.0000\n",
            "Epoch 9/15\n",
            "3/3 [==============================] - 1s 461ms/step - loss: 1.0989e-29 - acc: 1.0000 - val_loss: 3.7286e-32 - val_acc: 1.0000\n",
            "Epoch 10/15\n",
            "3/3 [==============================] - 1s 470ms/step - loss: 2.2134e-30 - acc: 1.0000 - val_loss: 5.6846e-33 - val_acc: 1.0000\n",
            "Epoch 11/15\n",
            "3/3 [==============================] - 1s 469ms/step - loss: 4.1581e-31 - acc: 1.0000 - val_loss: 1.3469e-33 - val_acc: 1.0000\n",
            "Epoch 12/15\n",
            "3/3 [==============================] - 1s 461ms/step - loss: 7.8685e-32 - acc: 1.0000 - val_loss: 4.4917e-34 - val_acc: 1.0000\n",
            "Epoch 13/15\n",
            "3/3 [==============================] - 1s 460ms/step - loss: 3.2877e-32 - acc: 1.0000 - val_loss: 1.9493e-34 - val_acc: 1.0000\n",
            "Epoch 14/15\n",
            "3/3 [==============================] - 1s 470ms/step - loss: 1.4542e-32 - acc: 1.0000 - val_loss: 1.0352e-34 - val_acc: 1.0000\n",
            "Epoch 15/15\n",
            "3/3 [==============================] - 1s 465ms/step - loss: 9.6004e-33 - acc: 1.0000 - val_loss: 6.4152e-35 - val_acc: 1.0000\n"
          ]
        }
      ]
    },
    {
      "cell_type": "markdown",
      "metadata": {
        "id": "HuxjW35RFCZ6"
      },
      "source": [
        "<h3>Evaluasi Model</h3>"
      ]
    },
    {
      "cell_type": "code",
      "metadata": {
        "colab": {
          "base_uri": "https://localhost:8080/",
          "height": 299
        },
        "id": "1AM3ms3zE_AU",
        "outputId": "3f70439b-14bc-4796-ca9d-dca187ec3b96"
      },
      "source": [
        "%matplotlib inline\n",
        "\n",
        "import matplotlib.pyplot as plt\n",
        "\n",
        "plt.style.use(\"ggplot\")\n",
        "plt.figure()\n",
        "plt.plot(np.arange(0, 15), H.history[\"loss\"], label=\"daun_nangka_loss\")\n",
        "plt.plot(np.arange(0, 15), H.history[\"val_loss\"], label=\"daun_sirih_loss\")\n",
        "plt.title(\"Loss Plot\")\n",
        "plt.xlabel(\"Epoch #\")\n",
        "plt.ylabel(\"Loss\")\n",
        "plt.legend()\n",
        "plt.show()"
      ],
      "execution_count": 33,
      "outputs": [
        {
          "output_type": "display_data",
          "data": {
            "image/png": "[encoded data removed]",
            "text/plain": [
              "<Figure size 432x288 with 1 Axes>"
            ]
          },
          "metadata": {}
        }
      ]
    },
    {
      "cell_type": "code",
      "metadata": {
        "colab": {
          "base_uri": "https://localhost:8080/",
          "height": 299
        },
        "id": "q1SJWudcFEDL",
        "outputId": "007ad8f5-7b95-4d0a-851a-4b8fc8073c8a"
      },
      "source": [
        "plt.style.use(\"ggplot\")\n",
        "plt.figure()\n",
        "plt.plot(np.arange(0, 15), H.history[\"acc\"], label=\"daun_nangka_acc\")\n",
        "plt.plot(np.arange(0, 15), H.history[\"val_acc\"], label=\"daun_sirih_acc\")\n",
        "plt.title(\"Accuracy Plot\")\n",
        "plt.xlabel(\"Epoch #\")\n",
        "plt.ylabel(\"Acc\")\n",
        "plt.legend()\n",
        "plt.show()"
      ],
      "execution_count": 34,
      "outputs": [
        {
          "output_type": "display_data",
          "data": {
            "image/png": "[encoded data removed]",
            "text/plain": [
              "<Figure size 432x288 with 1 Axes>"
            ]
          },
          "metadata": {}
        }
      ]
    },
    {
      "cell_type": "code",
      "metadata": {
        "colab": {
          "base_uri": "https://localhost:8080/"
        },
        "id": "H_8mB3igFG-x",
        "outputId": "d0406817-a5ee-4e6b-cee8-dc683f3d26ac"
      },
      "source": [
        "from sklearn.metrics import classification_report\n",
        "\n",
        "pred = model.predict(x_daun_sirih)\n",
        "labels = (pred > 0.5).astype(np.int)\n",
        "\n",
        "print(classification_report(y_daun_sirih, labels))"
      ],
      "execution_count": 35,
      "outputs": [
        {
          "output_type": "stream",
          "name": "stdout",
          "text": [
            "              precision    recall  f1-score   support\n",
            "\n",
            "           0       1.00      1.00      1.00        50\n",
            "\n",
            "    accuracy                           1.00        50\n",
            "   macro avg       1.00      1.00      1.00        50\n",
            "weighted avg       1.00      1.00      1.00        50\n",
            "\n"
          ]
        }
      ]
    }
  ]
}